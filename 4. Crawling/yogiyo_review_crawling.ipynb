{
 "cells": [
  {
   "cell_type": "code",
   "execution_count": 1,
   "metadata": {},
   "outputs": [
    {
     "name": "stdout",
     "output_type": "stream",
     "text": [
      "/Users/keonkookkim/Documents\n"
     ]
    }
   ],
   "source": [
    "cd /Users/keonkookkim/Documents"
   ]
  },
  {
   "cell_type": "code",
   "execution_count": 2,
   "metadata": {},
   "outputs": [
    {
     "name": "stdout",
     "output_type": "stream",
     "text": [
      "xattr: chromedriver: No such xattr: com.apple.quarantine\n"
     ]
    }
   ],
   "source": [
    "!xattr -d com.apple.quarantine chromedriver # 맥에서 크롬 브라우저 허용하는 코드 "
   ]
  },
  {
   "cell_type": "code",
   "execution_count": 3,
   "metadata": {},
   "outputs": [],
   "source": [
    "from selenium import webdriver\n",
    "import time\n",
    "from selenium.webdriver.common.keys import Keys # enter 치는 명령어\n",
    "import csv "
   ]
  },
  {
   "cell_type": "code",
   "execution_count": 161,
   "metadata": {},
   "outputs": [],
   "source": [
    "# 브라우저 생성 \n",
    "browser = webdriver.Chrome('/Users/keonkookkim/Documents/chromedriver')\n",
    "\n",
    "# 웹 사이트 열기 \n",
    "browser.get('https://www.yogiyo.co.kr/mobile/#/')"
   ]
  },
  {
   "cell_type": "code",
   "execution_count": 162,
   "metadata": {},
   "outputs": [],
   "source": [
    "# 검색창 클릭\n",
    "search = browser.find_element_by_xpath('//*[@id=\"search\"]/div/form/input')\n",
    "search.click()"
   ]
  },
  {
   "cell_type": "code",
   "execution_count": 163,
   "metadata": {},
   "outputs": [],
   "source": [
    "# 검색어 입력\n",
    "search.send_keys('둔산타워')\n",
    "search.send_keys(Keys.ENTER)\n",
    "time.sleep(15)"
   ]
  },
  {
   "cell_type": "code",
   "execution_count": 164,
   "metadata": {},
   "outputs": [],
   "source": [
    "# 스크롤 전 높이\n",
    "before_h = browser.execute_script(\"return window.scrollY\") # 현재 스크롤 된 높이를 계산\n",
    "\n",
    "# 무한 반복문 사용\n",
    "while True:\n",
    "    # 맨 아래로 스크롤을 내린다.\n",
    "    browser.find_element_by_css_selector(\"body\").send_keys(Keys.END) # end키를 통해 스크롤을 맨 아래로 내림 \n",
    "    \n",
    "    # 스크롤 사이 페이지 로딩 시간 추가\n",
    "    time.sleep(5)\n",
    "    \n",
    "    # 스크롤 후 높이 확인 \n",
    "    after_h = browser.execute_script(\"return window.scrollY\")\n",
    "    \n",
    "    # before_h = after_h # after의 높이를 before로 갱신\n",
    "    \n",
    "    if after_h > 10000: # 스크롤 높이보다 높으면 멈춤 \n",
    "        break\n",
    "    \n",
    "    ########################### 스크롤 높이 설정 필요 ###########################"
   ]
  },
  {
   "cell_type": "code",
   "execution_count": 97,
   "metadata": {},
   "outputs": [],
   "source": [
    "# # 가게 클릭 \n",
    "# search = browser.find_element_by_xpath('//*[@id=\"content\"]/div/div[3]/div/div[2]/div[1]/div')\n",
    "# search.click()\n",
    "# time.sleep(10)\n"
   ]
  },
  {
   "cell_type": "code",
   "execution_count": 98,
   "metadata": {},
   "outputs": [],
   "source": [
    "# # 리뷰탭 클릭 \n",
    "# search = browser.find_element_by_xpath('//*[@id=\"content\"]/div[2]/div[1]/ul/li[2]/a')\n",
    "# search.click()\n",
    "# time.sleep(10)"
   ]
  },
  {
   "cell_type": "code",
   "execution_count": 169,
   "metadata": {},
   "outputs": [],
   "source": [
    "# 파일 생성 \n",
    "f = open(r\"/Users/keonkookkim/Desktop/KKK/Selenium/review.csv\", 'w', encoding=\"UTF-8\", newline=\"\") # 파일 입출력 기능 \n",
    "\n",
    "csvWirter = csv.writer(f) # wirter에 파일(f) 넘겨주기\n",
    "f.close()"
   ]
  },
  {
   "cell_type": "code",
   "execution_count": 168,
   "metadata": {},
   "outputs": [],
   "source": [
    "# 크롤링 하면서 더보기 누르는 버전 \n",
    "\n",
    "def review_crawling():\n",
    "    count = browser.find_element_by_xpath('//*[@id=\"content\"]/div[2]/div[1]/div[5]/div[2]/div/strong[1]').text\n",
    "    \n",
    "    time.sleep(2)\n",
    "    num = 0\n",
    "    for i in range(2, int(count)+1):\n",
    "        # 가게 이름\n",
    "        title = browser.find_element_by_css_selector('span.restaurant-name.ng-binding').text\n",
    "        \n",
    "        items = browser.find_element_by_xpath(f'//*[@id=\"review\"]/li[{i}]')\n",
    "        review = items.find_element_by_css_selector(\"p.ng-binding\").text\n",
    "        \n",
    "        ########################## 평점 추가 고민 해보기 ##########################\n",
    "        \n",
    "        print(title,review)\n",
    "        csvWirter.writerow([title, review]) # 행 추가\n",
    "        num += 1\n",
    "        time.sleep(0.5)\n",
    "        if num % 10 == 0 :\n",
    "            browser.find_element_by_css_selector(\"body\").send_keys(Keys.END) # end키를 통해 스크롤을 맨 아래로 내림 \n",
    "            time.sleep(5)\n",
    "            # 더보기 클릭\n",
    "            more_click = browser.find_element_by_css_selector('li.list-group-item.btn-more')\n",
    "            more_click.click()\n",
    "            time.sleep(5)  "
   ]
  },
  {
   "cell_type": "code",
   "execution_count": 174,
   "metadata": {},
   "outputs": [],
   "source": [
    "# 더보기를 미리 다 눌러놓고 크롤링하는 버전 \n",
    "# 이게 휠씬 빠름\n",
    "\n",
    "def reveiw_crawling_first_scroll():\n",
    "    while True:\n",
    "        try:\n",
    "            browser.find_element_by_css_selector(\"body\").send_keys(Keys.END) # end키를 통해 스크롤을 맨 아래로 내림 \n",
    "            time.sleep(3)\n",
    "            # 더보기 클릭\n",
    "            more_click = browser.find_element_by_css_selector('li.list-group-item.btn-more')\n",
    "            more_click.click()\n",
    "            time.sleep(5)  \n",
    "        except:\n",
    "            break\n",
    "\n",
    "    count = browser.find_element_by_xpath('//*[@id=\"content\"]/div[2]/div[1]/div[5]/div[2]/div/strong[1]').text\n",
    "\n",
    "    for i in range(2, int(count)+1):\n",
    "        # 가게 이름\n",
    "        title = browser.find_element_by_css_selector('span.restaurant-name.ng-binding').text\n",
    "        \n",
    "        items = browser.find_element_by_xpath(f'//*[@id=\"review\"]/li[{i}]')\n",
    "        review = items.find_element_by_css_selector(\"p.ng-binding\").text\n",
    "        \n",
    "        ########################## 평점 추가 고민 해보기 ##########################\n",
    "        \n",
    "        print(title,review)\n",
    "        csvWirter.writerow([title, review]) # 행 추가"
   ]
  },
  {
   "cell_type": "code",
   "execution_count": 127,
   "metadata": {},
   "outputs": [],
   "source": [
    "# # 한 가게 리뷰 크롤링 후 뒤로가기\n",
    "# browser.back()\n",
    "# time.sleep(7)"
   ]
  },
  {
   "cell_type": "code",
   "execution_count": 170,
   "metadata": {},
   "outputs": [],
   "source": [
    "# 파일에 데이터 덮어쓰기\n",
    "f = open(r\"/Users/keonkookkim/Desktop/KKK/Selenium/review.csv\", 'a', encoding=\"UTF-8\", newline=\"\") # 파일 입출력 기능 \n",
    "\n",
    "csvWirter = csv.writer(f) # wirter에 파일(f) 넘겨주기"
   ]
  },
  {
   "cell_type": "code",
   "execution_count": null,
   "metadata": {},
   "outputs": [],
   "source": [
    "for i in range(1, 50):\n",
    "    try:\n",
    "        # 가게 클릭 \n",
    "        search = browser.find_element_by_xpath(f'//*[@id=\"content\"]/div/div[3]/div/div[2]/div[{i}]/div')\n",
    "        search.click()\n",
    "        time.sleep(10)\n",
    "        \n",
    "        # 리뷰탭 클릭 \n",
    "        search = browser.find_element_by_xpath('//*[@id=\"content\"]/div[2]/div[1]/ul/li[2]/a')\n",
    "        search.click()\n",
    "        time.sleep(10)\n",
    "        \n",
    "        # 리뷰 크롤링\n",
    "        reveiw_crawling_first_scroll()\n",
    "        \n",
    "        # 뒤로가기\n",
    "        browser.back()\n",
    "        time.sleep(7)\n",
    "    except:\n",
    "        break\n",
    "\n",
    "\n",
    "for i in range(1,50):    \n",
    "    try:\n",
    "        # 가게 클릭\n",
    "        search = browser.find_element_by_xpath(f'//*[@id=\"content\"]/div/div[4]/div/div[2]/div[{i}]/div')\n",
    "        search.click()\n",
    "        time.sleep(10)        \n",
    "        \n",
    "        # 리뷰탭 클릭 \n",
    "        search = browser.find_element_by_xpath('//*[@id=\"content\"]/div[2]/div[1]/ul/li[2]/a')\n",
    "        search.click()\n",
    "        time.sleep(10)\n",
    "        \n",
    "        # 리뷰 크롤링\n",
    "        reveiw_crawling_first_scroll()\n",
    "\n",
    "        # 뒤로가기\n",
    "        browser.back()\n",
    "        time.sleep(7)\n",
    "    except:\n",
    "        break"
   ]
  },
  {
   "cell_type": "code",
   "execution_count": 177,
   "metadata": {},
   "outputs": [
    {
     "data": {
      "text/html": [
       "<div>\n",
       "<style scoped>\n",
       "    .dataframe tbody tr th:only-of-type {\n",
       "        vertical-align: middle;\n",
       "    }\n",
       "\n",
       "    .dataframe tbody tr th {\n",
       "        vertical-align: top;\n",
       "    }\n",
       "\n",
       "    .dataframe thead th {\n",
       "        text-align: right;\n",
       "    }\n",
       "</style>\n",
       "<table border=\"1\" class=\"dataframe\">\n",
       "  <thead>\n",
       "    <tr style=\"text-align: right;\">\n",
       "      <th></th>\n",
       "      <th>호치킨-대전가장점</th>\n",
       "      <th>맛있어요 먹어보아요</th>\n",
       "    </tr>\n",
       "  </thead>\n",
       "  <tbody>\n",
       "    <tr>\n",
       "      <th>0</th>\n",
       "      <td>호치킨-대전가장점</td>\n",
       "      <td>맛있어요 먹어보아요</td>\n",
       "    </tr>\n",
       "    <tr>\n",
       "      <th>1</th>\n",
       "      <td>호치킨-대전가장점</td>\n",
       "      <td>맛있네요! 최고에요</td>\n",
       "    </tr>\n",
       "    <tr>\n",
       "      <th>2</th>\n",
       "      <td>호치킨-대전가장점</td>\n",
       "      <td>배달이 왜이리 빠르죠 20분 컷이네요 맛도 굿굿</td>\n",
       "    </tr>\n",
       "    <tr>\n",
       "      <th>3</th>\n",
       "      <td>호치킨-대전가장점</td>\n",
       "      <td>솔직히 가격보고 큰기대안했는데 생각보다 닭이 커서 놀랐고 튀김도 깔끔해서 맛있게 멋...</td>\n",
       "    </tr>\n",
       "    <tr>\n",
       "      <th>4</th>\n",
       "      <td>호치킨-대전가장점</td>\n",
       "      <td>넘 맛있게 잘먹었습니다</td>\n",
       "    </tr>\n",
       "    <tr>\n",
       "      <th>...</th>\n",
       "      <td>...</td>\n",
       "      <td>...</td>\n",
       "    </tr>\n",
       "    <tr>\n",
       "      <th>828</th>\n",
       "      <td>루트커피-둔산점</td>\n",
       "      <td>맛잇엇읍미잔 ㅎ하하ㅏㅎ</td>\n",
       "    </tr>\n",
       "    <tr>\n",
       "      <th>829</th>\n",
       "      <td>루트커피-둔산점</td>\n",
       "      <td>#식후감 달기도 한데 되게 걸쭉하네요 밥대신 먹을수 있을만큼 든든해요 배달도 빨라요!</td>\n",
       "    </tr>\n",
       "    <tr>\n",
       "      <th>830</th>\n",
       "      <td>루트커피-둔산점</td>\n",
       "      <td>커피 케잌 둘다 맛있어요 배달도 빨라요</td>\n",
       "    </tr>\n",
       "    <tr>\n",
       "      <th>831</th>\n",
       "      <td>루트커피-둔산점</td>\n",
       "      <td>메뉴가 모두 맛있었어요. 단 걸 좋아하시면 자바칩 프라푸치노 추천드려요. 제 동생이...</td>\n",
       "    </tr>\n",
       "    <tr>\n",
       "      <th>832</th>\n",
       "      <td>루트커피-둔산점</td>\n",
       "      <td>맛있고 배부르게 잘 먹었습니다👍👍 많이 파시고 좋은하루되세요😊</td>\n",
       "    </tr>\n",
       "  </tbody>\n",
       "</table>\n",
       "<p>833 rows × 2 columns</p>\n",
       "</div>"
      ],
      "text/plain": [
       "     호치킨-대전가장점                                         맛있어요 먹어보아요\n",
       "0    호치킨-대전가장점                                         맛있어요 먹어보아요\n",
       "1    호치킨-대전가장점                                         맛있네요! 최고에요\n",
       "2    호치킨-대전가장점                         배달이 왜이리 빠르죠 20분 컷이네요 맛도 굿굿\n",
       "3    호치킨-대전가장점  솔직히 가격보고 큰기대안했는데 생각보다 닭이 커서 놀랐고 튀김도 깔끔해서 맛있게 멋...\n",
       "4    호치킨-대전가장점                                       넘 맛있게 잘먹었습니다\n",
       "..         ...                                                ...\n",
       "828   루트커피-둔산점                                       맛잇엇읍미잔 ㅎ하하ㅏㅎ\n",
       "829   루트커피-둔산점    #식후감 달기도 한데 되게 걸쭉하네요 밥대신 먹을수 있을만큼 든든해요 배달도 빨라요!\n",
       "830   루트커피-둔산점                              커피 케잌 둘다 맛있어요 배달도 빨라요\n",
       "831   루트커피-둔산점  메뉴가 모두 맛있었어요. 단 걸 좋아하시면 자바칩 프라푸치노 추천드려요. 제 동생이...\n",
       "832   루트커피-둔산점                 맛있고 배부르게 잘 먹었습니다👍👍 많이 파시고 좋은하루되세요😊\n",
       "\n",
       "[833 rows x 2 columns]"
      ]
     },
     "execution_count": 177,
     "metadata": {},
     "output_type": "execute_result"
    }
   ],
   "source": [
    "data = pd.read_csv('/Users/keonkookkim/Desktop/KKK/Selenium/review.csv')\n",
    "data"
   ]
  },
  {
   "cell_type": "code",
   "execution_count": null,
   "metadata": {},
   "outputs": [],
   "source": []
  }
 ],
 "metadata": {
  "kernelspec": {
   "display_name": "Python 3.8.13 ('aiffel')",
   "language": "python",
   "name": "python3"
  },
  "language_info": {
   "codemirror_mode": {
    "name": "ipython",
    "version": 3
   },
   "file_extension": ".py",
   "mimetype": "text/x-python",
   "name": "python",
   "nbconvert_exporter": "python",
   "pygments_lexer": "ipython3",
   "version": "3.8.13"
  },
  "orig_nbformat": 4,
  "vscode": {
   "interpreter": {
    "hash": "e9a93df3c6ee637a5c9e5012002eebd98bbe9b6c4c84f21152ae4734d6474e33"
   }
  }
 },
 "nbformat": 4,
 "nbformat_minor": 2
}
