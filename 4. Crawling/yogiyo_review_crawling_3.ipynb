{
 "cells": [
  {
   "cell_type": "code",
   "execution_count": 1,
   "metadata": {},
   "outputs": [
    {
     "name": "stdout",
     "output_type": "stream",
     "text": [
      "/Users/keonkookkim/Documents\n"
     ]
    }
   ],
   "source": [
    "cd /Users/keonkookkim/Documents"
   ]
  },
  {
   "cell_type": "code",
   "execution_count": 2,
   "metadata": {},
   "outputs": [
    {
     "name": "stdout",
     "output_type": "stream",
     "text": [
      "xattr: chromedriver: No such xattr: com.apple.quarantine\n"
     ]
    }
   ],
   "source": [
    "!xattr -d com.apple.quarantine chromedriver # 맥에서 크롬 브라우저 허용하는 코드 "
   ]
  },
  {
   "cell_type": "code",
   "execution_count": 3,
   "metadata": {},
   "outputs": [],
   "source": [
    "from selenium import webdriver\n",
    "import time\n",
    "from selenium.webdriver.common.keys import Keys # enter 치는 명령어\n",
    "import csv \n",
    "import pandas as pd "
   ]
  },
  {
   "cell_type": "code",
   "execution_count": 4,
   "metadata": {},
   "outputs": [],
   "source": [
    "# 브라우저 생성 \n",
    "browser = webdriver.Chrome('/Users/keonkookkim/Documents/chromedriver')\n",
    "\n",
    "# 웹 사이트 열기 \n",
    "browser.get('https://www.yogiyo.co.kr/mobile/#/')"
   ]
  },
  {
   "cell_type": "code",
   "execution_count": 5,
   "metadata": {},
   "outputs": [],
   "source": [
    "# 검색창 클릭\n",
    "search = browser.find_element_by_xpath('//*[@id=\"search\"]/div/form/input')\n",
    "search.click()"
   ]
  },
  {
   "cell_type": "code",
   "execution_count": 6,
   "metadata": {},
   "outputs": [],
   "source": [
    "# 검색어 입력\n",
    "search.send_keys('서울특별시 서초구 반포동 20-45 반포자이플라자')\n",
    "search.send_keys(Keys.ENTER)\n",
    "time.sleep(15)"
   ]
  },
  {
   "cell_type": "code",
   "execution_count": 15,
   "metadata": {},
   "outputs": [],
   "source": [
    "# 스크롤 전 높이\n",
    "before_h = browser.execute_script(\"return window.scrollY\") # 현재 스크롤 된 높이를 계산\n",
    "\n",
    "# 무한 반복문 사용\n",
    "while True:\n",
    "    # 맨 아래로 스크롤을 내린다.\n",
    "    browser.find_element_by_css_selector(\"body\").send_keys(Keys.END) # end키를 통해 스크롤을 맨 아래로 내림 \n",
    "    \n",
    "    # 스크롤 사이 페이지 로딩 시간 추가\n",
    "    time.sleep(3)\n",
    "    \n",
    "    # 스크롤 후 높이 확인 \n",
    "    after_h = browser.execute_script(\"return window.scrollY\")\n",
    "    \n",
    "    # before_h = after_h # after의 높이를 before로 갱신\n",
    "    \n",
    "    if after_h > 10000: # 스크롤 높이보다 높으면 멈춤 \n",
    "        break\n",
    "    \n",
    "    ########################### 스크롤 높이 설정 필요 ###########################"
   ]
  },
  {
   "cell_type": "code",
   "execution_count": 97,
   "metadata": {},
   "outputs": [],
   "source": [
    "# # 가게 클릭 \n",
    "# search = browser.find_element_by_xpath('//*[@id=\"content\"]/div/div[3]/div/div[2]/div[1]/div')\n",
    "# search.click()\n",
    "# time.sleep(10)\n"
   ]
  },
  {
   "cell_type": "code",
   "execution_count": 98,
   "metadata": {},
   "outputs": [],
   "source": [
    "# # 리뷰탭 클릭 \n",
    "# search = browser.find_element_by_xpath('//*[@id=\"content\"]/div[2]/div[1]/ul/li[2]/a')\n",
    "# search.click()\n",
    "# time.sleep(10)"
   ]
  },
  {
   "cell_type": "code",
   "execution_count": 39,
   "metadata": {},
   "outputs": [
    {
     "name": "stdout",
     "output_type": "stream",
     "text": [
      "5\n"
     ]
    }
   ],
   "source": [
    "# star_count = 0\n",
    "# for j in range(1,6):\n",
    "#     star = browser.find_element_by_xpath(f'//*[@id=\"review\"]/li[16]/div[2]/div/span[1]/span[{j}]').get_attribute(\"class\")\n",
    "#     if star == 'full ng-scope':\n",
    "#         star_count += 1\n",
    "        \n",
    "#     else :\n",
    "#         star_count += 0\n",
    "# print(star_count)"
   ]
  },
  {
   "cell_type": "markdown",
   "metadata": {},
   "source": [
    "# 실행시 파일 초기화됨 주의!!!"
   ]
  },
  {
   "cell_type": "code",
   "execution_count": 10,
   "metadata": {},
   "outputs": [],
   "source": [
    "# 파일 생성 \n",
    "f = open(r\"/Users/keonkookkim/Desktop/KKK/Selenium/valid_data.csv\", 'w', encoding=\"UTF-8\", newline=\"\") # 파일 입출력 기능 \n",
    "\n",
    "csvWirter = csv.writer(f) # wirter에 파일(f) 넘겨주기\n",
    "f.close()"
   ]
  },
  {
   "cell_type": "code",
   "execution_count": 168,
   "metadata": {},
   "outputs": [],
   "source": [
    "# # 크롤링 하면서 더보기 누르는 버전 \n",
    "\n",
    "# def review_crawling():\n",
    "#     count = browser.find_element_by_xpath('//*[@id=\"content\"]/div[2]/div[1]/div[5]/div[2]/div/strong[1]').text\n",
    "    \n",
    "#     time.sleep(2)\n",
    "#     num = 0\n",
    "#     for i in range(2, int(count)+1):\n",
    "#         # 가게 이름\n",
    "#         title = browser.find_element_by_css_selector('span.restaurant-name.ng-binding').text\n",
    "        \n",
    "#         items = browser.find_element_by_xpath(f'//*[@id=\"review\"]/li[{i}]')\n",
    "#         review = items.find_element_by_css_selector(\"p.ng-binding\").text\n",
    "#         ########################## 평점 추가 고민 해보기 ##########################\n",
    "        \n",
    "#         print(title,review)\n",
    "#         csvWirter.writerow([title, review]) # 행 추가\n",
    "#         num += 1\n",
    "#         time.sleep(0.5)\n",
    "#         if num % 10 == 0 :\n",
    "#             browser.find_element_by_css_selector(\"body\").send_keys(Keys.END) # end키를 통해 스크롤을 맨 아래로 내림 \n",
    "#             time.sleep(5)\n",
    "#             # 더보기 클릭\n",
    "#             more_click = browser.find_element_by_css_selector('li.list-group-item.btn-more')\n",
    "#             more_click.click()\n",
    "#             time.sleep(5)  "
   ]
  },
  {
   "cell_type": "markdown",
   "metadata": {},
   "source": [
    "----\n",
    "### 리뷰 크롤링\n",
    "----"
   ]
  },
  {
   "cell_type": "code",
   "execution_count": 11,
   "metadata": {},
   "outputs": [],
   "source": [
    "# 더보기를 미리 다 눌러놓고 크롤링하는 버전 \n",
    "# 이게 휠씬 빠름\n",
    "\n",
    "def reveiw_crawling_first_scroll():\n",
    "    while True:\n",
    "        try:          \n",
    "            browser.find_element_by_css_selector(\"body\").send_keys(Keys.END) # end키를 통해 스크롤을 맨 아래로 내림 \n",
    "            time.sleep(1)\n",
    "            \n",
    "            # 더보기 클릭\n",
    "            more_click = browser.find_element_by_css_selector('li.list-group-item.btn-more')\n",
    "            isExistNextPage = more_click.is_enabled() # 더보기 클릭 가능하다면\n",
    "            if (isExistNextPage == True):\n",
    "                more_click.click()\n",
    "                time.sleep(2)  \n",
    "            else :  # 없다면 끝 \n",
    "                break\n",
    "        except:\n",
    "            break\n",
    "\n",
    "    count = browser.find_element_by_xpath('//*[@id=\"content\"]/div[2]/div[1]/div[5]/div[2]/div/strong[1]').text\n",
    "    if int(count) >= 2: # 리뷰 개수가 2개 이하면 크롤링X\n",
    "        for i in range(2, int(count)+1):\n",
    "            # 가게 이름\n",
    "            title = browser.find_element_by_css_selector('span.restaurant-name.ng-binding').text\n",
    "            \n",
    "            items = browser.find_element_by_xpath(f'//*[@id=\"review\"]/li[{i}]')\n",
    "            review = items.find_element_by_css_selector(\"p.ng-binding\").text\n",
    "            \n",
    "            # 별 개수 세기\n",
    "            star_count = 0\n",
    "            for j in range(1,6):\n",
    "                star = browser.find_element_by_xpath(f'//*[@id=\"review\"]/li[{i}]/div[2]/div/span[1]/span[{j}]').get_attribute(\"class\")\n",
    "                if star == 'full ng-scope':\n",
    "                    star_count += 1\n",
    "                    \n",
    "                else :\n",
    "                    star_count += 0\n",
    "            \n",
    "            print(title,'|',review,'|',star_count)\n",
    "            csvWirter.writerow([title, review, star_count]) # 행 추가"
   ]
  },
  {
   "cell_type": "markdown",
   "metadata": {},
   "source": [
    "---\n",
    "### 별점 낮은것 크롤링\n",
    "---"
   ]
  },
  {
   "cell_type": "code",
   "execution_count": 65,
   "metadata": {},
   "outputs": [],
   "source": [
    "# def bad_reveiw_crawling():\n",
    "#     while True:\n",
    "#         try:          \n",
    "#             browser.find_element_by_css_selector(\"body\").send_keys(Keys.END) # end키를 통해 스크롤을 맨 아래로 내림 \n",
    "#             time.sleep(1)\n",
    "            \n",
    "#             # 더보기 클릭\n",
    "#             more_click = browser.find_element_by_css_selector('li.list-group-item.btn-more')\n",
    "#             isExistNextPage = more_click.is_enabled() # 더보기 클릭 가능하다면\n",
    "#             if (isExistNextPage == True):\n",
    "#                 more_click.click()\n",
    "#                 time.sleep(2)  \n",
    "#             else :  # 없다면 끝 \n",
    "#                 break\n",
    "#         except:\n",
    "#             break\n",
    "\n",
    "#     count = browser.find_element_by_xpath('//*[@id=\"content\"]/div[2]/div[1]/div[5]/div[2]/div/strong[1]').text\n",
    "#     if int(count) >= 2: # 리뷰 개수가 2개 이하면 크롤링X\n",
    "#         for i in range(2, int(count)+1):\n",
    "#             # 가게 이름\n",
    "#             title = browser.find_element_by_css_selector('span.restaurant-name.ng-binding').text\n",
    "            \n",
    "#             items = browser.find_element_by_xpath(f'//*[@id=\"review\"]/li[{i}]')\n",
    "#             review = items.find_element_by_css_selector(\"p.ng-binding\").text\n",
    "            \n",
    "#             # 별 개수 세기\n",
    "#             star_count = 0\n",
    "#             for j in range(1,6):\n",
    "#                 star = browser.find_element_by_xpath(f'//*[@id=\"review\"]/li[{i}]/div[2]/div/span[1]/span[{j}]').get_attribute(\"class\")\n",
    "#                 if star == 'full ng-scope':\n",
    "#                     star_count += 1\n",
    "                    \n",
    "#                 else :\n",
    "#                     star_count += 0\n",
    "            \n",
    "#             if star_count < 3 :\n",
    "                \n",
    "#                  # 맛 별점\n",
    "#                 taste = browser.find_element_by_xpath(f'//*[@id=\"review\"]/li[{i}]/div[2]/div/span[2]/span[3]').text\n",
    "#                 # 양 별점 \n",
    "#                 quantity = browser.find_element_by_xpath(f'//*[@id=\"review\"]/li[{i}]/div[2]/div/span[2]/span[6]').text\n",
    "#                 # 배달 별점\n",
    "#                 delivery = quantity = browser.find_element_by_xpath(f'//*[@id=\"review\"]/li[{i}]/div[2]/div/span[2]/span[9]').text\n",
    "                \n",
    "#                 print(title,'|',review,'|',star_count,'|',taste,'|',quantity,'|',delivery)\n",
    "#                 csvWirter.writerow([title, review, star_count, taste, quantity, delivery]) # 행 추가"
   ]
  },
  {
   "cell_type": "code",
   "execution_count": 8,
   "metadata": {},
   "outputs": [],
   "source": [
    "# 파일에 데이터 덮어쓰기\n",
    "f = open(r\"/Users/keonkookkim/Desktop/KKK/Selenium/valid_data.csv\", 'a', encoding=\"UTF-8\", newline=\"\") # 파일 입출력 기능 \n",
    "\n",
    "csvWirter = csv.writer(f) # wirter에 파일(f) 넘겨주기"
   ]
  },
  {
   "cell_type": "markdown",
   "metadata": {},
   "source": [
    "---\n",
    "# 지역 선택 후 전체 식당 크롤링\n",
    "---"
   ]
  },
  {
   "cell_type": "code",
   "execution_count": 68,
   "metadata": {},
   "outputs": [
    {
     "name": "stdout",
     "output_type": "stream",
     "text": [
      "호식이두마리치킨-청룡점 | 배달 왤케 느림? 한시간반이 넘게 걸리노 | 1\n",
      "호식이두마리치킨-청룡점 | 예정시간 20분 지나도 배달안와서 전화걸었으나 받지 않음. | 1\n",
      "호식이두마리치킨-청룡점 | 맛있어요! 근데 배달은 2시간 10분 걸렸어요 ㅎㅎ 1시간 40분쯤 지났을 때 취소하려고 전화드렸는데 조리 중이라 하셔서 취소 못해서 아쉬운건 어쩔 수 없네요 ㅠㅠㅠㅠ 주문이 너무 많이 밀리셔서 주문 받기 힘드시면 미리 늦어질 수 있으니 취소 유무 결정해주셨으면 좋을 것 같아요 ㅎㅎㅎㅎ | 1\n",
      "호식이두마리치킨-청룡점 | 배달 예상시간보다 늦고 식어서 딱딱한 상태였음. 리뷰이벤트 오지않음. | 2\n",
      "호식이두마리치킨-청룡점 | 자주 시켜 먹는데 오늘은 정말 배달이 최악이네요…. 전화도 안받고… 취소 못해서 결국 받긴했는데. 다음엔 이런일 없었으면 합니다. | 1\n",
      "호식이두마리치킨-청룡점 | 배달이 정말 너무 오래 걸리네요 치킨도 다 식었구요 | 1\n",
      "호식이두마리치킨-청룡점 | 배달 1시간 40분 걸려서 받음. 미안하다는 말 한마디 없음 | 1\n",
      "호식이두마리치킨-청룡점 | 비와서 배달늦고 맛 이 냉동식품보다 맛없는건 이해함. 그냥 먹고 넘어가면 되니까. 근데 순살치킨에 이상한 이물질을 씹고 뭔가 싶음. 대부분이 가슴살인건 알겠는데 유독 몇몇부분이 이상한게 섞인 맛임. 반죽 문제일 수도 있으나 먹다가 너무 물림. 이물질은 뼈라면 그나마 다행이겠지만 아무리 봐도 난 잘 모르겠음. 괜히 찝찝 | 1\n",
      "호식이두마리치킨-청룡점 | 한번씩 시켜먹는 집인데.. 그날따라 배달 거의 2시간가까이걸림.. 그럴거면 연락을 주시지 배달갔다고 한 뒤 30분지나서옴 치킨도 좀 식었었음 말 '한마디' 면 해결될 문제를 사업하는 입장에서보면 1점, | 1\n",
      "호식이두마리치킨-청룡점 | 제시간에 배달 못할 것 같으면 주문을 받으면 안됨. 뭐 사람 하는 일이니 다소는 이해할 수 있지만 배달시간 두배는 말도 안됨. 리뷰 확인 안한 제 잘못인 듯 합니다. ㅎㅎ | 1\n",
      "호식이두마리치킨-청룡점 | 배달도착예상시간보다 거의 한시간 더 늦게옴 30분 지났을때 전화 문의하니 배달 기사님이 픽업해갔다고했는데 그러고 30분쯤뒤에 배달옴 그시간이면 걸어서 왕복하고도 남는시간... | 1\n",
      "호식이두마리치킨-청룡점 | 맛과 양은 양심껏 드립니다. 근데 배달에 130분 걸리는 건 양심이 과하게 없네요 | 1\n",
      "호식이두마리치킨-청룡점 | 최악이네요 배달도 늦어 맛도 별로 정말 최악이네요 | 1\n",
      "호식이두마리치킨-청룡점 | 배달시간 1시간20분걸리고 식어서 맛 없었습니다 | 1\n",
      "호식이두마리치킨-청룡점 | 더럽게 문밖에 내려놓고가서 찝찝해요 배달완료 안내없이 방치됐네요 박스바닥으로 기름기 스며 이걸어찌먹나요 배송요청이나 받지말던가 걸어달랬는데 그게안되면 연락을해줬어야지 밖에두고 못받았다하고싶네요 | 1\n",
      "호식이두마리치킨-청룡점 | 제가 호식이를 좋아해서 여기저기 많이 시켜먹어봤는데 이런 집은 처음이네요. 닭 사이즈가 다른 곳보다 작은건 그냥 체감이라고 둘째치고, 배달왔을때 치킨이 치킨무위에 완전 눌려서 와있고 거기다가 2마리 시켰는데 닭다리는 3개. 그리고 닭목은 어째서 3개가 나오는 건가요? 간장에만 같은 닭 목이 2개 들어가있고 후라이드에는 한마리 있네요. 이거 닭 한마리 조각 준수해서 나오는거 맞나요? 거기다가 양념은 밑쪽 부위는 거의 안묻어져있고. 어제는 너무 화가 나고 밤 늦게 따지기 머해서 하루 늦게 써요. 본사에도 사진첨부해서 컴플레인 할게요. | 1\n",
      "호식이두마리치킨-청룡점 | 배달이 늦게 도착한게 좀 아쉬워요. 순살 치킨은 맛있는데 뼈있는 치킨은 조금 질기네요. 잘먹었습니다 | 2\n",
      "호식이두마리치킨-청룡점 | 이벤트때문에 배달 2시간걸린거까지는 참고 넘어가려고 했는데 이 추운 날에 비닐 하나 없이 바닥에 용기 그대로 내려놓고 가는건 뭔가요? 화장실갔다온 사이에 다식어서 맛이 하나도 없네요 | 1\n",
      "호식이두마리치킨-청룡점 | 배달 1시간45분 걸렸구요 치킨은 너무 차갑게 식어서 전자레인지 돌려서 먹어야하네요 프렌차이점이라서 그런지 맛은 괜찮네요 리뷰이벤트 한다고 했는데 아이디 안적어서 안된것같네요 엄청 철두철미 하네요. 보통 치킨집 서비스랑 다르네요 ^^ 간장치킨은 용가리 같은 맛? 제 스타일은 아니였구요. 양념치킨읔 양념맛이 많이 안나서 그냥 그랬습니다. | 1\n",
      "호식이두마리치킨-청룡점 | 아ㅠ 리뷰벤트 했는데 좀 너무해서 남겨봐요 재구매인데 배달시간도 15분정도 오바되고 오배송되서 전화해서 다시받있는데 마감시간이라 그런지 치킨고 거무튀튀하고 딱딱하고 날개는 반을 버렸네요.. 씹히지도 않아요 | 1\n",
      "호식이두마리치킨-청룡점 | 배달이 너무 늦게 왔고 너무 식었어요… 저번에 시켰을 때는 늦어도 따뜻해서 참고 먹었는데… | 2\n",
      "호식이두마리치킨-청룡점 | 배달시간 : 140분 이벤트 기간이라는 점을 고려해도 이해불가한 배달 시간이였습니다. 배달 예상시간 80분을 넘기고 전화를 드렸는데 그 뒤로 1시간이 걸려서 왔습니다. 맛과 양은 정말 만족스러웠지만 상식적으로 불가한 배달시간은 정말 최악이네요. | 1\n",
      "호식이두마리치킨-청룡점 | 난 이런 배달은 첨 받아봄 배달도 너무늦게왔지만 포장상태 완전불쾌. 이런코로나시국에 봉투없이 그냥박스열면 바로 치킨 치킨두조각은 무밑에깔려있고 또양은 저게먼지 누가먹다준거처럼 너무기분나쁜 음식배달이었음 다시는 여기주문은 노노 | 2\n",
      "호식이두마리치킨-청룡점 | 배달시간 정확히 1시간 46분 걸렸습니다 매장이랑 저희집 거리 146M입니다. | 1\n",
      "호식이두마리치킨-청룡점 | 어떻게 배달이 왔길래.... 음식이 박스 여기저기 이리저리 다 섞여있나요.... 왜 찝찝하게 한쪽이 비어 있나요... 빨리 와달라고 하지않았으니 맛있게 보내주시면 정말 감사하겠습니다. | 1\n",
      "호식이두마리치킨-청룡점 | 두번다시 호식이 안시킬겁니다 아니 배달을 왔으면 시킨사람 확인이라도 해야지 문앞에 달랑두고 하도 배달이 늦길래 문열어보니 비닐포장도 안된 그냥 구멍난 박스째로 한시간동안 식은 치킨 먹으니 딱딱하고 맛도 없고 이런경우 친구도 한번 당했다는데 참 어이없네요 날파리나 벌레도 끼어서 몇점먹다 그냥 버립니다 감사합니다 | 1\n",
      "호식이두마리치킨-청룡점 | 배달 도착안했는데 리뷰쓰라하네 뭐지 | 1\n",
      "호식이두마리치킨-청룡점 | 배달늣고 음료도 안주고 전화도 안받고 최악 | 1\n",
      "호식이두마리치킨-청룡점 | 배달이 안왔어요 어떻게 된거죠? 1시간 40분이 지났고 전화연결도 안되네요 이런경우가 있나요????? | 1\n",
      "호식이두마리치킨-청룡점 | 삼삼한 거 좋아하는 편인데도 너무 싱겁고 맛이 없네요. 니맛내맛도 아닌 맛입니다. 오늘 너무 배고파서 오랜만에 치킨 배달 시켰는데 라면 끓여서 먹고 있습니다. 리뷰이벤트 청양소스도 적었으나 안왔습니다. 요즘 경기도 어렵고 이런 리뷰 안 적고 싶고, 여기저기서 호식이 치킨 가끔 시켜 먹지만 너무 실망스러운 맛입니다. 돈이 아까운 치킨은 처음입니다… | 2\n",
      "호식이두마리치킨-청룡점 | 배달 늦어요 겁나 겁나 | 1\n",
      "호식이두마리치킨-청룡점 | 오늘 초복이고 바쁜거 알겠고 계속 시껴 먹는데 할말있어서 12시에 전화했더니 여자분 막 응대하고 끊으시는데 코로나라 배달 많아서 막 응대합니까?똑 같이 응대 해드릴까요?초심을 잃지 마세요! 진짜 기분 더러워요! | 1\n",
      "후라이드참잘하는집-봉천점 | 비대면 배달 받겠다고 한 적 없는데 문자 하나 달랑 이렇게 남겨놓으면 언제 온지 어떻게 아나요 치킨이 이런 날씨에 바깥에 30분이나 있어서 다 식었네요. 지난번에 맛있어서 재주문한건데 실망스럽습니다. 배달원한테도 왜 이렇게 둔건지 직접 물어봤는데 바쁘신지 답도 없네요. | 2\n",
      "후라이드참잘하는집-봉천점 | 너무 배고파서 예상시간 보고 빠르길래 일부러 시킨건데 뭐죠? 분명 집 근처이고 너무 안온다 해서 전화 했더니 배달 하시는분이 픽업한게 40분전이라뇨.. 치킨 다 식고 기다림도 너무 길어서 화나네요 정확히 주문한지 56분만에 왔어요 | 2\n",
      "후라이드참잘하는집-봉천점 | 싸구려 음식집인건 알았는데 배달 받으러 나가니까 그냥 길바닥에 버려두고 갔네요 ?? 직접 받으러 나간다고 말씀까지 드렸는데?? 이렇게 배달하고 배달비 2천원씩이나 받아가는거에요? | 1\n",
      "후라이드참잘하는집-봉천점 | 꽤 자주 시켜먹던집인데 이사가기전에 마지막으로 생각나서 시켜먹었다가 엄청 후회했네요ㅋㅋ 문앞에 두고 가버려서 한참 기다리다가 결국 식은 치킨먹고 환불이나 교환을 요구했던것도 아니고 연락 줬어야하는거 아니냐고 전화했다가 사장이라는 사람이 전화와서 배달 건수가 몇건인데 다 연락 돌리냐고 고래고래 소리지름ㅋㅋㅋ 이 전까지 시켜먹었던게 너무 후회스럽고 왜 하필 이사하기 직전에 이런집인걸 알게된건지.. | 1\n",
      "후라이드참잘하는집-봉천점 | 점심시간인지 배달은 너무 늦게 오네요.. 반반때문인지 양은 적네요..튀긴껍질은 너무 두꺼워서 먹을게 별로 없구요..맛은 그냥....버린게 많아요.. | 2\n",
      "후라이드참잘하는집-봉천점 | 여기 배달부가 치킨 빼먹나요? 살다살다 후라이드 4조각 있는거 보고 깜짝놀랐어요. 어떻게 치킨 한마리가 8-9조각 밖에 없죠? 빼먹은게 아니라면 이집은 원래 이렇게 양이 적은 집인가요. 어떻게 된 걸까요. | 1\n",
      "후라이드참잘하는집-봉천점 | 배달원이 빼먹은건 아닌지 굉장히 의심스럽다. 요즘 이것때문에 문제가 많은데 관리가 되는건지 확인필요함. 양도 양이지만 닭을 자르지도 않고 그냥 튀겨서 밀가루가 익지도 않음. 이거먹고배탈나면책임질꺼임? | 1\n",
      "후라이드참잘하는집-봉천점 | 이게 정녕 후라이드가 만사천짜리에 배달비 별도인 치킨맞나요? 크기 보고 무슨 XX큐 뺨치는 프리미엄 치킨집인줄... 닭손질은 귀찮았는지 제대로 썰지도 않은 듯한 조각도 있었네요. 그렇다고 맛이 월등한가하면 그렇지도 않아요. 고기촉촉하고 육즙나오진 '않지만' 죄다 퍽퍽살은 아닌 딱 마지노선 정도. 가격은 대형 프랜차이즈 후라이드랑 차이도 안 나는 수준인데 이 정도면 진짜 dj doc의 김모씨가 떠오릅니다. 콜라도 좀 미지근하게 와서 여러모로 불만족스러웠습니다 | 2\n",
      "후라이드참잘하는집-봉천점 | 배달이 20분만에 와서 좋은게 아니라, 찝찝했는데 디진다 치킨에 먹다 남은 듯한 치킨 조각이 있고 양념은 제대로 묻혀있지가 않네요. | 2\n",
      "후라이드참잘하는집-봉천점 | 배달은 빨라요 다튀겨논거 다시 튀겨서 대워주셨네요 기름이 찌들었어요 | 1\n",
      "후라이드참잘하는집-봉천점 | 염지가 너무 셉니다. 배달도 느립니다. 재구매 의사x | 1\n",
      "후라이드참잘하는집-봉천점 | 시킨지 2시간 반이 넘었는데 배달 완료라 뜨고 전화도 안받네요.......이밴트라고 하더라도 이건 아니지 않나요...... | 1\n",
      "후라이드참잘하는집-봉천점 | 2시간5분째 기다리는데 배달은 안오고 요기요에는 배달완료로 나오내 전화도 안되고 어째야하나요 | 1\n",
      "후라이드참잘하는집-봉천점 | **무서워서 주문 못하겠네요 뮨열어 놓고 기다리는데 입구에서 뭐 딱딱거리면서 대기타고 하도 안 오길레 나가서 배달온거 아니에요? 했더니 치킨도 안꺼내놓고 짜증날라 하니까 꺼내주네 뭐 손님 칠 기세로 말 툭툭 뱉네 손님이랑 기싸움함? 오 내돈 내고 싸움 할 뻔 했네 ㅋㅋㅋ ** | 1\n",
      "후라이드참잘하는집-봉천점 | 예약한시간보다 늦게 배달이와서 좀섭섭하네요! | 2\n",
      "후라이드참잘하는집-봉천점 | 배달도빠르고 닭도맛있었는데요. 가격대비 양이 너무적음;;;; 반반 만오천원이면 bhc 이런데랑 별로 차이도안나는데 양은 거의 반?삼분의일??이네요 저희 삼인가족 배가 작아서 원래 프랜차이즈에서 한마리 시키면 남기거든요... 여긴 거의 십분만에 다먹고 배안차서 입맛다셨네요..... 진짜 딱 일인일닭 할만한 양인데 가격대가 높네염 배민에서 리뷰많아서 시킨건데 실망..... | 2\n",
      "피자는여기 | 배달했으면 벨을 누르던지 문자라고 주셔야죠 그냥 놓고 가버리는게 어딧습니까 | 1\n"
     ]
    }
   ],
   "source": [
    "\n",
    "# 슈퍼레드위크 추천 크롤링\n",
    "for i in range(1, 20):\n",
    "    data = pd.read_csv('/Users/keonkookkim/Desktop/KKK/Selenium/review.csv')\n",
    "    data.columns =['store','review','total_scope']\n",
    "    store_list = data['store'].unique()\n",
    "    try:\n",
    "        # 가게 클릭 \n",
    "        search = browser.find_element_by_xpath(f'//*[@id=\"content\"]/div/div[3]/div/div[2]/div[{i}]/div')\n",
    "        search.click()\n",
    "        time.sleep(5)\n",
    "        store_name = browser.find_element_by_css_selector('span.restaurant-name.ng-binding').text\n",
    "        if store_name not in store_list:\n",
    "        # 리뷰탭 클릭 \n",
    "            search = browser.find_element_by_xpath('//*[@id=\"content\"]/div[2]/div[1]/ul/li[2]/a')\n",
    "            search.click()\n",
    "            time.sleep(5)\n",
    "            \n",
    "            #### 리뷰 크롤링\n",
    "            reveiw_crawling_first_scroll()\n",
    "            # bad_reveiw_crawling()\n",
    "            \n",
    "            # 뒤로가기\n",
    "            browser.back()\n",
    "            time.sleep(6)\n",
    "        else :\n",
    "            browser.back()\n",
    "            time.sleep(6) \n",
    "    except:\n",
    "        break\n",
    "\n",
    "# 일반 등록 음식점 크롤링\n",
    "for i in range(1,20):    \n",
    "    data = pd.read_csv('/Users/keonkookkim/Desktop/KKK/Selenium/review.csv')\n",
    "    data.columns =['store','review','total_scope']\n",
    "    store_list = data['store'].unique()\n",
    "    try:\n",
    "        # 가게 클릭\n",
    "        search = browser.find_element_by_xpath(f'//*[@id=\"content\"]/div/div[4]/div/div[2]/div[{i}]/div')\n",
    "        search.click()\n",
    "        time.sleep(5)        \n",
    "        store_name = browser.find_element_by_css_selector('span.restaurant-name.ng-binding').text\n",
    "        if store_name not in store_list:\n",
    "        # 리뷰탭 클릭 \n",
    "            search = browser.find_element_by_xpath('//*[@id=\"content\"]/div[2]/div[1]/ul/li[2]/a')\n",
    "            search.click()\n",
    "            time.sleep(5)\n",
    "            \n",
    "            #### 리뷰 크롤링\n",
    "            reveiw_crawling_first_scroll()\n",
    "            # bad_reveiw_crawling()\n",
    "                \n",
    "            # 뒤로가기\n",
    "            browser.back()\n",
    "            time.sleep(6)\n",
    "        else :\n",
    "            browser.back()\n",
    "            time.sleep(6)\n",
    "            \n",
    "    except:\n",
    "        break"
   ]
  },
  {
   "cell_type": "markdown",
   "metadata": {},
   "source": [
    "-----"
   ]
  },
  {
   "cell_type": "code",
   "execution_count": 27,
   "metadata": {},
   "outputs": [],
   "source": [
    "# 파일에 데이터 덮어쓰기\n",
    "f = open(r\"/Users/keonkookkim/Desktop/KKK/Selenium/valid_data.csv\", 'a', encoding=\"UTF-8\", newline=\"\") # 파일 입출력 기능 \n",
    "\n",
    "csvWirter = csv.writer(f) # wirter에 파일(f) 넘겨주기"
   ]
  },
  {
   "cell_type": "code",
   "execution_count": 28,
   "metadata": {},
   "outputs": [
    {
     "name": "stdout",
     "output_type": "stream",
     "text": [
      "모던니혼일본라멘돈카츠전문점 | 점심으로 잘 먹었습니다 :) | 4\n",
      "모던니혼일본라멘돈카츠전문점 | . | 5\n",
      "모던니혼일본라멘돈카츠전문점 | 잘 먹었어요~! 다들 좋은 하루보냐세요 | 5\n",
      "모던니혼일본라멘돈카츠전문점 | 맛있어서 자주 시켜 먹습니다👍❤ | 5\n",
      "모던니혼일본라멘돈카츠전문점 | 맛있어요👍👍👍👍👍👍👍👍 | 5\n",
      "모던니혼일본라멘돈카츠전문점 | 맛있게잘먹었습니다~ | 5\n",
      "모던니혼일본라멘돈카츠전문점 | 처음 주문해봤는데 만족스럽네요 | 5\n",
      "모던니혼일본라멘돈카츠전문점 | 차슈의 엄청난 두께에 깜짝 놀랐네요~맛있게 잘 먹었습니다~^^ | 5\n",
      "모던니혼일본라멘돈카츠전문점 | 깔끔하고 맛남. 돈까스 소스가 차가운건 쫌 싫어요. 라멘 맛있네요. | 5\n",
      "모던니혼일본라멘돈카츠전문점 | . | 5\n",
      "모던니혼일본라멘돈카츠전문점 | 돈까스 부드럽고 치즈 양이 많아 좋아요 ㅎㅎㅎ | 5\n",
      "모던니혼일본라멘돈카츠전문점 | 그냥그랬습니다 쏘쏘해요 | 3\n",
      "모던니혼일본라멘돈카츠전문점 | 돈까스소스에 겨자가 들어가서 살짝 제 입맛은 아니었고 라멘에 들어간 차슈에 살짝 냄새가........좀...... | 3\n",
      "모던니혼일본라멘돈카츠전문점 | 맛있어요 다음에 또 주문할게요 | 5\n",
      "모던니혼일본라멘돈카츠전문점 | 스트레스가 엄청난날! 매운라멘 한그릇하면 쏵 사라지는게 넘 좋아요 ㅎㅎ 그리고 맛있어요👍👍👍👍👍👍 가라아케도 처음에 먹었을때는 좀 그랬는데 요즘은 튀김옷도 바뀐것같고 부드럽고 바삭바삭한게 넘 맛있게 잘먹었습니다👍👍👍👍👍👍👍👍👍👍👍👍🍜🍗 | 5\n",
      "모던니혼일본라멘돈카츠전문점 | 맛있게 잘먹었습니다 | 5\n",
      "모던니혼일본라멘돈카츠전문점 | 리뷰 적으려고 30 분 기다렸습니다 배달이 훨씬 빨라서 먹다가 허겁지겁 ㅠ 라멘 양 생각보다 꽤 돼서 쉬엄쉬엄 먹는 중입니다 사진처럼 육수/면 따로라 하나도 안 불고 ㅠㅠ 차슈 너무 맛있어요 돈가스도 고기 두툼하고 좋아용 소스 배합 와사비 넣어서 느끼함 잡아 주는데 최고 ㅠㅠ 다음에도 또 시킬게용 개인적으로 차슈 추가 있었으면 하는 ㅠㅠ | 5\n",
      "모던니혼일본라멘돈카츠전문점 | 맛있었어요. 최소 주문값만 아니면 자주 시켜먹을텐데 아쉽아쉽~ | 4\n",
      "모던니혼일본라멘돈카츠전문점 | 오.오자마자바로먹어봤는데.또시켜먹어야겠다는생각이드네요.번창하세요 | 5\n",
      "모던니혼일본라멘돈카츠전문점 | 급하게 먹느라 사진 찍는걸 까먹었네요 정말 맛있게 먹었어요!!! | 5\n",
      "모던니혼일본라멘돈카츠전문점 | 잘먹었습니다 | 5\n",
      "모던니혼일본라멘돈카츠전문점 | 이것도 처음먹어보는데.. 괜찮네요 고기 두툼합니다 | 5\n",
      "모던니혼일본라멘돈카츠전문점 | 국물이 연한편이라 돼지냄새 싫어하시는 분들도 드실만 할겁니다 챠슈 추가 하고싶었는데 제가 못본건지 안보입니다 돈까스는 기름때문에 튀김옷이 조금 눅눅해졌는데 바닥에 기름먹을걸 깔아주셨으면 좋겠습니다 잘먹었습니다 | 5\n",
      "모던니혼일본라멘돈카츠전문점 | 돈까스가 너무도톰하고 양도 많습니다. 튀김 겉면도 깨끗한거 같아요 특히 소스에와시비가들어가 있어서 느끼함을 잘잡아준거 같습니다 | 5\n",
      "모던니혼일본라멘돈카츠전문점 | 라멘 꽤 맛있어요 차슈도 좋고 가라아케 튀김옷만 바꾸시면 괜찮을것같아요! | 5\n",
      "모던니혼일본라멘돈카츠전문점 | 면따로 국물 따로 보내줘서 불지도 않고 친구는 라멘 느끼해서 별로라고 했었는데 먹어보고 느끼하지도 않고 진짜 맛있다고 하더라구요 또 시켜 먹을께요~맛있게 잘 먹었습니다^^ | 5\n",
      "모던니혼일본라멘돈카츠전문점 | 라멘 별로입니다ㅜㅇㅠ 고로케가 맛있었어요 | 2\n",
      "모던니혼일본라멘돈카츠전문점 | 정말 맛있게 잘먹었어요 | 5\n",
      "모던니혼일본라멘돈카츠전문점 | 오랜만에 먹었는데 전에 먿었을 때보다 국물이 밍밍하구 깊은 맛이 안나요 | 4\n",
      "모던니혼일본라멘돈카츠전문점 | 처음에도 좋았는데 날이갈수록 더 좋아지네요 굿! 돈까스 기름기 쫙빼고 주셔서 넘 맘에듬 | 5\n",
      "모던니혼일본라멘돈카츠전문점 | 라멘의 깊은맛은 느껴지지 않음 라면보다 별로인거 같음 | 2\n",
      "모던니혼일본라멘돈카츠전문점 | 돈까스는 맛있어요 제스탈임 돈코츠 라멘은 사골국에 말아먹는 소면.. 같은 느낌.. | 4\n",
      "모던니혼일본라멘돈카츠전문점 | 배달하시는분이 친절하긴한데 너무 급하게 와서 다 엎질렀어요 돈가스 소스를... | 2\n",
      "모던니혼일본라멘돈카츠전문점 | 라멘과 국물이 따로 오고 위생적이네요. 맛은 so so | 3\n",
      "모던니혼일본라멘돈카츠전문점 | 맛있게 잘 먹었습니다~^^ | 5\n",
      "모던니혼일본라멘돈카츠전문점 | 맛 좋습니다 | 5\n",
      "모던니혼일본라멘돈카츠전문점 | 국물이랑 면이랑 따로 주셔서 좋았어요 국물맛도 진하고 괜찮은거같아요 돈가스는 소스가 좀 특이했네요 배불러서 먹지는 못했어요 | 5\n",
      "모던니혼일본라멘돈카츠전문점 | 라멘 먹고싶어서 시키다가 배달가격맞추려고 돈까스 추가했는데 돈까스가 히든임 저가격에 어케팔지? | 5\n",
      "모던니혼일본라멘돈카츠전문점 | 잘먹었습니다~~~~ | 5\n",
      "모던니혼일본라멘돈카츠전문점 | 사진은 맛있게 먹느라 못 찍었네요 ㅋㅋ큐ㅠㅠㅠㅠㅠ 일단 배달해주시는분 되게 친절하셨구요.. 여기 가게 직원분들도 정말 친절하시네요!! 숙주 많이 넣어달라구 했는데 완전 많이 넣어주셔서 국물 다 먹을때까지 숙주나물이 있었네요 ㅋㅋㅋㅋㅋㅋ 그리고 돈까스 밑에분이 되게 고기도 두껍고 맛있다고 하셔서 한 번 시켜봤는데 진짜 두껍고 맛있었어요! 새로운 맛집을 발견햇네요 >< 다음에도 꼭 시켜먹을게요~~ | 4\n",
      "모던니혼일본라멘돈카츠전문점 | 단골단골 라멘짱 !! | 5\n",
      "모던니혼일본라멘돈카츠전문점 | 너무 맛있어요! 라멘은 사진을 못찍어서 ㅜㅜㅜ 돈까스 쵴오 | 4\n",
      "모던니혼일본라멘돈카츠전문점 | 차슈 양 어마어마했는데 맛계란 밑으로 파뭋쳤네여 ;; 암튼 계란도 많아봐야 2쪽 주실 줄 알았는데 맛이 넣주시더라구옇ㅎㅎ 넘 좋았어요ㅎㅎ | 5\n",
      "모던니혼일본라멘돈카츠전문점 | 진짜 맛있었어요ㅎㅎㅎ 돈까스 고기가 이렇게 두툼한데는 처음이라 놀랐어요. 소스는 약간 알싸한 맛이 나는게 기름기 잡아는 거 같아사 좋았어요ㅎㅎㅎ 그리고 매운라멘은 뜨거울 때 먹으니까 저한텐 좀 맵더라구요ㅠㅠ 근데 맛있어요ㅎㅎㅎ 다음에는 돈코츠로 먹어봐야 겠어요ㅎㅎ | 5\n",
      "모던니혼일본라멘돈카츠전문점 | 맛나요 | 5\n",
      "모던니혼일본라멘돈카츠전문점 | 맛나게먹었네요ㅎㅎㅎ | 5\n",
      "모던니혼일본라멘돈카츠전문점 | 국물이 죽여줘요 ㅋ ㅋ ㅋ ㅋ 10자 | 4\n",
      "모던니혼일본라멘돈카츠전문점 | 맛있었어요! 사진 찍어논게 없네요 | 5\n",
      "모던니혼일본라멘돈카츠전문점 | 매운라멘 맛있어요 ㅋㅋ | 5\n",
      "모던니혼일본라멘돈카츠전문점 | 맛있게 잘 먹었습니다 | 5\n",
      "모던니혼일본라멘돈카츠전문점 | 면이라서 불지 않을까 걱정하고 시켰는데 국물과 면을 따로 가져다가 주시는군요^^ 정말 제가 먹어본 매운라멘중에 가장 맛있게 먹었어요 돈가스도 대부분 소스를 부어 주어서 눅눅해지고 싫었는데 일식 돈가스라서 소스를 찍어먹으니까 바싹하고 맛있게 잘먹었습니다~ | 5\n",
      "모던니혼일본라멘돈카츠전문점 | 깔끔하니 맛있었어요.. 라멘을 집에서 편하게 먹을수 있으니 좋아요~^^ | 5\n",
      "모던니혼일본라멘돈카츠전문점 | 라멘 정말좋아하는데 배달이 되서 너무 좋아요 맛도있구요. 자주 애용하는 곳이랍니다 너무 조아욤 | 5\n",
      "모던니혼일본라멘돈카츠전문점 | 양이적었지만꿀맜!!!!!!!! | 5\n",
      "모던니혼일본라멘돈카츠전문점 | 돈가스 고기는 진짜두껍네요 | 4\n",
      "모던니혼일본라멘돈카츠전문점 | 국물은 맛있는데 면발이 약간 쫄면 면같이 쫄깃한점이 아쉽내요. 전체적인 맛은 좋았습니다. | 5\n",
      "모던니혼일본라멘돈카츠전문점 | 싱거워요;; 유부초밥은 괜찮았는데... 라면이 뭔가 빠진듯한맛이네요 | 3\n",
      "모던니혼일본라멘돈카츠전문점 | 맛있게 잘먹었어용😄 라멘은 처음 배달시켜먹어요!! 번창하세요🙌 | 5\n",
      "모던니혼일본라멘돈카츠전문점 | 면과 국물 따로 주시는 센스!! 간이 조금 쎈듯 했는데..제입맛이 좀 싱거운편이라 감안하고 맛있어요!! 돈까스도 굿!!라멘은 먹다가 부랴부랴 찍어서.. 만족!!! | 4\n",
      "모던니혼일본라멘돈카츠전문점 | 깔끔하네요 맛있게 잘먹었습니다 | 4\n",
      "모던니혼일본라멘돈카츠전문점 | 맛있어요 배달은 보통정도? | 4\n",
      "모던니혼일본라멘돈카츠전문점 | 갠적으로 일본라멘 좋아하는데 배달하는곳은 첨이네요 불어서 올까봐 걱정했는데 국물따로 면따로 보내주셔서 음식점가서 먹는것처럼 맛있게 잘먹었어요~ 특히 돈가스는 최고~ 이런 두께는 첨봐요 두꺼워도 질기지않고 살살 녹아요~ 돈가스소스에 겨자소스 넣어서 느끼함도 없었어요 정말 잘먹었어요 앞으로 자주 시키도록할께요~~ | 5\n",
      "모던니혼일본라멘돈카츠전문점 | 매운라멘이랑 돈까스 주문해서 먹었어요 돈까스 맛있네요 고기 두께는 두꺼운데 속은 촉촉하고 부드러워서 놀랬어요 처음에 돈까스 소스에 겨자가 있길래 뭔가 했는데 먹어보니 왜 있는지 이해가 가더라구요 ㅎㅎ 느끼하지도 않고 정말 맛있게 잘먹었어요 병원이라 사진은 못찍었지만 맛있어서 후기 올려요 라멘에 들어있는 차슈랑 반숙계란 도 넘 맛있어요 돈까스랑 라멘 국물이랑 같이 먹으니 궁합이 최고ㅎㅎ 전 매운걸 못먹어서 돈코츠랑 고민하다 매운라멘 시켰는데 못먹을 정도로 매운맛이 아니여서 좋았구요 혹시 매운거 잘드시는 분들은 전혀 안매울수도 있을거 같아요 맵기 조절도 된다니 맵게 해서 드셔도 좋을듯 싶어요ㅎㅎ 암튼 맛있게 잘먹었어요 자주 시켜 먹을게요 | 5\n",
      "모던니혼일본라멘돈카츠전문점 | 8.000원짜리 돈까스는 맛없어요. 고기 간이 안되서 싱겁고 쓰네요. 차슈 추가로 시켰는데 차슈만들줄 모르나보네요. 차슈는 장조림이 아닙니다. 간장맛에 쩔어서 짜기만 하네요. 그리고 이집은 음식 다시 배워야겠네요. 참고들하세요. 본인이 OO(욕설 포함) 이시면 시키시고 입이 수준있으시면 시키지마세요. | 1\n",
      "모던니혼일본라멘돈카츠전문점 | 돈까스 진짜 맛있어요 튀김은 바삭 바삭 하구 속살은 촉촉해서 깜놀했네용 라멘면도 따로 해서 안뿔게 주시구 맘에들어서 후기 남깁니당 자주 시켜먹을게용 👍🏻👍🏻👍🏻👍🏻👍🏻😊 | 5\n"
     ]
    }
   ],
   "source": [
    "reveiw_crawling_first_scroll()"
   ]
  },
  {
   "cell_type": "code",
   "execution_count": 29,
   "metadata": {},
   "outputs": [],
   "source": [
    "f.close()"
   ]
  },
  {
   "cell_type": "code",
   "execution_count": 30,
   "metadata": {},
   "outputs": [
    {
     "data": {
      "text/html": [
       "<div>\n",
       "<style scoped>\n",
       "    .dataframe tbody tr th:only-of-type {\n",
       "        vertical-align: middle;\n",
       "    }\n",
       "\n",
       "    .dataframe tbody tr th {\n",
       "        vertical-align: top;\n",
       "    }\n",
       "\n",
       "    .dataframe thead th {\n",
       "        text-align: right;\n",
       "    }\n",
       "</style>\n",
       "<table border=\"1\" class=\"dataframe\">\n",
       "  <thead>\n",
       "    <tr style=\"text-align: right;\">\n",
       "      <th></th>\n",
       "      <th>store</th>\n",
       "      <th>review</th>\n",
       "      <th>total_scope</th>\n",
       "    </tr>\n",
       "  </thead>\n",
       "  <tbody>\n",
       "    <tr>\n",
       "      <th>0</th>\n",
       "      <td>할매찜닭삼계탕</td>\n",
       "      <td>최악입니다 배달비 4000원 그렇다칩시다 이해합니다 죽하나 시킬라카면 추가금액 만원...</td>\n",
       "      <td>1</td>\n",
       "    </tr>\n",
       "    <tr>\n",
       "      <th>1</th>\n",
       "      <td>할매찜닭삼계탕</td>\n",
       "      <td>12000원짜리 죽 두개 시키는데 배달료 4000원추가 추가금액 1000원 총 29...</td>\n",
       "      <td>1</td>\n",
       "    </tr>\n",
       "    <tr>\n",
       "      <th>2</th>\n",
       "      <td>할매찜닭삼계탕</td>\n",
       "      <td>아니 이게 8천원 짜리밥이냐 양심이있어야지 김치고기덮밥이아니라 먹다말은거 볶아먹는맛...</td>\n",
       "      <td>1</td>\n",
       "    </tr>\n",
       "    <tr>\n",
       "      <th>3</th>\n",
       "      <td>할매찜닭삼계탕</td>\n",
       "      <td>1시간 반을 기다리다 안와서 전화드렸더니 그때서야 배달기사님이 안오신다고.. 못갈거...</td>\n",
       "      <td>1</td>\n",
       "    </tr>\n",
       "    <tr>\n",
       "      <th>4</th>\n",
       "      <td>할매찜닭삼계탕</td>\n",
       "      <td>배도 아프고 설사하고 운동하다가 대략난감 했네요. 배달 음식이지만 퀄리티좀 있게 포...</td>\n",
       "      <td>1</td>\n",
       "    </tr>\n",
       "    <tr>\n",
       "      <th>...</th>\n",
       "      <td>...</td>\n",
       "      <td>...</td>\n",
       "      <td>...</td>\n",
       "    </tr>\n",
       "    <tr>\n",
       "      <th>397</th>\n",
       "      <td>모던니혼일본라멘돈카츠전문점</td>\n",
       "      <td>맛있어요 배달은 보통정도?</td>\n",
       "      <td>4</td>\n",
       "    </tr>\n",
       "    <tr>\n",
       "      <th>398</th>\n",
       "      <td>모던니혼일본라멘돈카츠전문점</td>\n",
       "      <td>갠적으로 일본라멘 좋아하는데 배달하는곳은 첨이네요 불어서 올까봐 걱정했는데 국물따로...</td>\n",
       "      <td>5</td>\n",
       "    </tr>\n",
       "    <tr>\n",
       "      <th>399</th>\n",
       "      <td>모던니혼일본라멘돈카츠전문점</td>\n",
       "      <td>매운라멘이랑 돈까스 주문해서 먹었어요 돈까스 맛있네요 고기 두께는 두꺼운데 속은 촉...</td>\n",
       "      <td>5</td>\n",
       "    </tr>\n",
       "    <tr>\n",
       "      <th>400</th>\n",
       "      <td>모던니혼일본라멘돈카츠전문점</td>\n",
       "      <td>8.000원짜리 돈까스는 맛없어요. 고기 간이 안되서 싱겁고 쓰네요. 차슈 추가로 ...</td>\n",
       "      <td>1</td>\n",
       "    </tr>\n",
       "    <tr>\n",
       "      <th>401</th>\n",
       "      <td>모던니혼일본라멘돈카츠전문점</td>\n",
       "      <td>돈까스 진짜 맛있어요 튀김은 바삭 바삭 하구 속살은 촉촉해서 깜놀했네용 라멘면도 따...</td>\n",
       "      <td>5</td>\n",
       "    </tr>\n",
       "  </tbody>\n",
       "</table>\n",
       "<p>402 rows × 3 columns</p>\n",
       "</div>"
      ],
      "text/plain": [
       "              store                                             review  \\\n",
       "0           할매찜닭삼계탕  최악입니다 배달비 4000원 그렇다칩시다 이해합니다 죽하나 시킬라카면 추가금액 만원...   \n",
       "1           할매찜닭삼계탕  12000원짜리 죽 두개 시키는데 배달료 4000원추가 추가금액 1000원 총 29...   \n",
       "2           할매찜닭삼계탕  아니 이게 8천원 짜리밥이냐 양심이있어야지 김치고기덮밥이아니라 먹다말은거 볶아먹는맛...   \n",
       "3           할매찜닭삼계탕  1시간 반을 기다리다 안와서 전화드렸더니 그때서야 배달기사님이 안오신다고.. 못갈거...   \n",
       "4           할매찜닭삼계탕  배도 아프고 설사하고 운동하다가 대략난감 했네요. 배달 음식이지만 퀄리티좀 있게 포...   \n",
       "..              ...                                                ...   \n",
       "397  모던니혼일본라멘돈카츠전문점                                     맛있어요 배달은 보통정도?   \n",
       "398  모던니혼일본라멘돈카츠전문점  갠적으로 일본라멘 좋아하는데 배달하는곳은 첨이네요 불어서 올까봐 걱정했는데 국물따로...   \n",
       "399  모던니혼일본라멘돈카츠전문점  매운라멘이랑 돈까스 주문해서 먹었어요 돈까스 맛있네요 고기 두께는 두꺼운데 속은 촉...   \n",
       "400  모던니혼일본라멘돈카츠전문점  8.000원짜리 돈까스는 맛없어요. 고기 간이 안되서 싱겁고 쓰네요. 차슈 추가로 ...   \n",
       "401  모던니혼일본라멘돈카츠전문점  돈까스 진짜 맛있어요 튀김은 바삭 바삭 하구 속살은 촉촉해서 깜놀했네용 라멘면도 따...   \n",
       "\n",
       "     total_scope  \n",
       "0              1  \n",
       "1              1  \n",
       "2              1  \n",
       "3              1  \n",
       "4              1  \n",
       "..           ...  \n",
       "397            4  \n",
       "398            5  \n",
       "399            5  \n",
       "400            1  \n",
       "401            5  \n",
       "\n",
       "[402 rows x 3 columns]"
      ]
     },
     "execution_count": 30,
     "metadata": {},
     "output_type": "execute_result"
    }
   ],
   "source": [
    "data = pd.read_csv('/Users/keonkookkim/Desktop/KKK/Selenium/valid_data.csv')\n",
    "data.columns =['store','review','total_scope']\n",
    "data"
   ]
  },
  {
   "cell_type": "code",
   "execution_count": null,
   "metadata": {},
   "outputs": [],
   "source": []
  }
 ],
 "metadata": {
  "kernelspec": {
   "display_name": "Python 3.8.13 ('aiffel')",
   "language": "python",
   "name": "python3"
  },
  "language_info": {
   "codemirror_mode": {
    "name": "ipython",
    "version": 3
   },
   "file_extension": ".py",
   "mimetype": "text/x-python",
   "name": "python",
   "nbconvert_exporter": "python",
   "pygments_lexer": "ipython3",
   "version": "3.8.13"
  },
  "orig_nbformat": 4,
  "vscode": {
   "interpreter": {
    "hash": "e9a93df3c6ee637a5c9e5012002eebd98bbe9b6c4c84f21152ae4734d6474e33"
   }
  }
 },
 "nbformat": 4,
 "nbformat_minor": 2
}
